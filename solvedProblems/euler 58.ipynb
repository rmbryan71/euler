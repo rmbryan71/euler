{
 "cells": [
  {
   "cell_type": "code",
   "execution_count": 12,
   "metadata": {},
   "outputs": [
    {
     "name": "stdout",
     "output_type": "stream",
     "text": [
      "688590081.0\n"
     ]
    },
    {
     "ename": "TypeError",
     "evalue": "unsupported operand type(s) for ** or pow(): 'NoneType' and 'float'",
     "output_type": "error",
     "traceback": [
      "\u001b[0;31m---------------------------------------------------------------------------\u001b[0m",
      "\u001b[0;31mTypeError\u001b[0m                                 Traceback (most recent call last)",
      "\u001b[0;32m<ipython-input-12-3d7dcac14ad8>\u001b[0m in \u001b[0;36m<module>\u001b[0;34m()\u001b[0m\n\u001b[1;32m     49\u001b[0m \u001b[0;34m\u001b[0m\u001b[0m\n\u001b[1;32m     50\u001b[0m \u001b[0;31m# printing the side length\u001b[0m\u001b[0;34m\u001b[0m\u001b[0;34m\u001b[0m\u001b[0m\n\u001b[0;32m---> 51\u001b[0;31m \u001b[0mprint\u001b[0m \u001b[0;34m(\u001b[0m\u001b[0;36m2.0\u001b[0m\u001b[0;34m*\u001b[0m\u001b[0mint\u001b[0m\u001b[0;34m(\u001b[0m\u001b[0mi\u001b[0m\u001b[0;34m)\u001b[0m\u001b[0;34m+\u001b[0m\u001b[0;36m1\u001b[0m\u001b[0;34m)\u001b[0m\u001b[0;34m**\u001b[0m\u001b[0;36m0.5\u001b[0m\u001b[0;34m\u001b[0m\u001b[0m\n\u001b[0m\u001b[1;32m     52\u001b[0m \u001b[0;34m\u001b[0m\u001b[0m\n\u001b[1;32m     53\u001b[0m \u001b[0;31m# time at the end of the program execution\u001b[0m\u001b[0;34m\u001b[0m\u001b[0;34m\u001b[0m\u001b[0m\n",
      "\u001b[0;31mTypeError\u001b[0m: unsupported operand type(s) for ** or pow(): 'NoneType' and 'float'"
     ]
    }
   ],
   "source": [
    "\n",
    "# time module for calculating the execution time\n",
    "import time\n",
    "\n",
    "# time at the start of program execution\n",
    "start = time.time()\n",
    "\n",
    "\n",
    "def is_prime(n):\n",
    "    \"\"\"function to find if the given\n",
    "    number is prime\"\"\"\n",
    "    for i in range(3, int(n**0.5)+1, 2):\n",
    "        if n % i == 0:\n",
    "            return False\n",
    "    return True\n",
    "\n",
    "# iterator for the numbers\n",
    "i = 0\n",
    "i = int(i)\n",
    "\n",
    "# gap for every four iterations\n",
    "gap = 1\n",
    "\n",
    "# ratio of lenght of primes to length of diagonals\n",
    "ratio = 1\n",
    "\n",
    "# prime numbers on the diagonal\n",
    "primes = []\n",
    "\n",
    "# all the numbers, including 1\n",
    "all_numbers = [1]\n",
    "\n",
    "# While loop, to loop until we reach the last number\n",
    "while ratio > 0.1:\n",
    "    for j in range(4):\n",
    "        # generating the value of n for 2n+1\n",
    "        i += gap\n",
    "        # generating the odd number\n",
    "        present_number = 2*i + 1\n",
    "        # appending the number to all_numbers\n",
    "        all_numbers.append(present_number)\n",
    "        # appending to prime if the number is prime\n",
    "        if is_prime(present_number):\n",
    "            primes.append(2*i + 1)\n",
    "    # changing the value of ratio at the end of loop\n",
    "    ratio = float(len(primes))/len(all_numbers)\n",
    "    # increasing the gap after every 4 numbers\n",
    "    gap += 1\n",
    "\n",
    "# printing the side length\n",
    "print (2.0*int(i)+1)**0.5\n",
    "\n",
    "# time at the end of the program execution\n",
    "end = time.time()\n",
    "\n",
    "# printing the total time of execution\n",
    "print (end - start)"
   ]
  },
  {
   "cell_type": "code",
   "execution_count": 13,
   "metadata": {},
   "outputs": [
    {
     "name": "stdout",
     "output_type": "stream",
     "text": [
      "26241\n"
     ]
    }
   ],
   "source": [
    "import math\n",
    "from collections import defaultdict\n",
    "from functools import reduce\n",
    "\n",
    "def factorize(n):\n",
    "    if n < 1:\n",
    "        raise ValueError('fact() argument should be >= 1')\n",
    "    if n == 1:\n",
    "        return []  # special case\n",
    "    res = []\n",
    "    # iterate over all even numbers first.\n",
    "    while n % 2 == 0:\n",
    "        res.append(2)\n",
    "        n //= 2\n",
    "    # try odd numbers up to sqrt(n)\n",
    "    limit = math.sqrt(n+1)\n",
    "    i = 3\n",
    "    while i <= limit:\n",
    "        if n % i == 0:\n",
    "            res.append(i)\n",
    "            n //= i\n",
    "            limit = math.sqrt(n+i)\n",
    "        else:\n",
    "            i += 2\n",
    "    if n != 1:\n",
    "        res.append(n)\n",
    "    return res\n",
    "\n",
    "def num_divisors(n):\n",
    "    factors = sorted(factorize(n))\n",
    "    histogram = defaultdict(int)\n",
    "    for factor in factors:\n",
    "        histogram[factor] += 1\n",
    "    # number of divisors is equal to product of \n",
    "    # incremented exponents of prime factors\n",
    "    from operator import mul\n",
    "    try:\n",
    "        return reduce(mul, [exponent + 1 for exponent in list(histogram.values())])\n",
    "    except:\n",
    "        return 1\n",
    "\n",
    "def is_prime(num):\n",
    "    if num % 2 == 0:\n",
    "        return False\n",
    "    if num % 3 == 0 and num != 3:\n",
    "        return False\n",
    "\n",
    "    if num_divisors(num) == 2 and num > 1:\n",
    "        return True\n",
    "    else:\n",
    "        return False\n",
    "\n",
    "def spiral_diagonals():\n",
    "    n = 1\n",
    "    step = 2\n",
    "    since_last = 0\n",
    "    while True:\n",
    "        yield n\n",
    "        n += step\n",
    "        since_last += 1\n",
    "        if since_last == 4:\n",
    "            step += 2\n",
    "            since_last = 0\n",
    "\n",
    "def main():\n",
    "    level = 0\n",
    "    primes = 0\n",
    "    for i, n in enumerate(spiral_diagonals()):\n",
    "        if (i-1) % 4 == 0:\n",
    "            level += 1\n",
    "\n",
    "        if is_prime(n):\n",
    "            primes += 1\n",
    "        side_length = (2 * level) + 1\n",
    "\n",
    "        ratio =  float(primes) / float(i+1)\n",
    "        if 0 < ratio < 0.1:\n",
    "            print(side_length)\n",
    "            return\n",
    "\n",
    "if __name__ == \"__main__\":\n",
    "    main()"
   ]
  },
  {
   "cell_type": "code",
   "execution_count": null,
   "metadata": {},
   "outputs": [],
   "source": []
  },
  {
   "cell_type": "code",
   "execution_count": null,
   "metadata": {},
   "outputs": [],
   "source": []
  },
  {
   "cell_type": "code",
   "execution_count": null,
   "metadata": {},
   "outputs": [],
   "source": []
  },
  {
   "cell_type": "code",
   "execution_count": null,
   "metadata": {},
   "outputs": [],
   "source": []
  },
  {
   "cell_type": "code",
   "execution_count": null,
   "metadata": {},
   "outputs": [],
   "source": []
  },
  {
   "cell_type": "code",
   "execution_count": null,
   "metadata": {},
   "outputs": [],
   "source": []
  },
  {
   "cell_type": "code",
   "execution_count": null,
   "metadata": {},
   "outputs": [],
   "source": []
  },
  {
   "cell_type": "code",
   "execution_count": null,
   "metadata": {},
   "outputs": [],
   "source": []
  },
  {
   "cell_type": "code",
   "execution_count": null,
   "metadata": {},
   "outputs": [],
   "source": []
  },
  {
   "cell_type": "code",
   "execution_count": null,
   "metadata": {},
   "outputs": [],
   "source": []
  },
  {
   "cell_type": "code",
   "execution_count": null,
   "metadata": {},
   "outputs": [],
   "source": []
  },
  {
   "cell_type": "code",
   "execution_count": null,
   "metadata": {},
   "outputs": [],
   "source": []
  }
 ],
 "metadata": {
  "kernelspec": {
   "display_name": "Python 3",
   "language": "python",
   "name": "python3"
  },
  "language_info": {
   "codemirror_mode": {
    "name": "ipython",
    "version": 3
   },
   "file_extension": ".py",
   "mimetype": "text/x-python",
   "name": "python",
   "nbconvert_exporter": "python",
   "pygments_lexer": "ipython3",
   "version": "3.6.4"
  }
 },
 "nbformat": 4,
 "nbformat_minor": 2
}
