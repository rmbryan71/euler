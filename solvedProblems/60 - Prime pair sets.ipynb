{
 "cells": [
  {
   "cell_type": "markdown",
   "metadata": {},
   "source": [
    "https://projecteuler.net/problem=60\n",
    "\n",
    "The primes 3, 7, 109, and 673, are quite remarkable. By taking any two primes and concatenating them in any order the result will always be prime. For example, taking 7 and 109, both 7109 and 1097 are prime. The sum of these four primes, 792, represents the lowest sum for a set of four primes with this property.\n",
    "\n",
    "Find the lowest sum for a set of five primes for which any two primes concatenate to produce another prime."
   ]
  },
  {
   "cell_type": "markdown",
   "metadata": {},
   "source": [
    "plan : \n",
    "\n",
    "load an arbitrarily large set of primes into memory\n",
    "\n",
    "user itertools to make every combination of 5 of them, sorted by sum\n",
    "\n",
    "start with the smallest and iterate up. First to pass is the smallest.\n",
    "\n",
    "If none pass, get another batch of primes to test."
   ]
  },
  {
   "cell_type": "code",
   "execution_count": null,
   "metadata": {},
   "outputs": [],
   "source": [
    "import sympy\n",
    "import itertools\n",
    "\n",
    "primes = list(sympy.primerange(7,1000))\n",
    "sets = []\n",
    "\n",
    "for i in itertools.combinations(primes,5):\n",
    "    for j in itertools.permutations('01234',2):\n",
    "        a = int(j[0])\n",
    "        b = int(j[1])\n",
    "        c = int(i[a])\n",
    "        d = int(i[b])\n",
    "        e = int(str(c)+str(d))\n",
    "        if not sympy.isprime(e): \n",
    "            #print (i, ' fails')\n",
    "            break\n",
    "        else: continue\n",
    "        print ('winner ', i)\n",
    "print ('Done, no winner.')\n",
    "        "
   ]
  },
  {
   "cell_type": "markdown",
   "metadata": {},
   "source": [
    "I don't think that's ever going to work. It's been running for an hour and I made another notebook to just try to get the length of the list of combinations of 5 primes under 1000 and THAT has pegged a processor for a few minutes, so I need a different approach."
   ]
  },
  {
   "cell_type": "markdown",
   "metadata": {},
   "source": [
    "I need to keep track of combinations of numbers that fail so that I don't check them again. 3 and 5 can't be in the solution set, so no need to check the thousands of combinations with 3 and 5."
   ]
  },
  {
   "cell_type": "code",
   "execution_count": 3,
   "metadata": {},
   "outputs": [
    {
     "data": {
      "text/plain": [
       "165"
      ]
     },
     "execution_count": 3,
     "metadata": {},
     "output_type": "execute_result"
    }
   ],
   "source": [
    "import sympy\n",
    "import itertools\n",
    "\n",
    "known_failures = []\n",
    "def set_check(s):\n",
    "    for j in itertools.permutations('01234',2):\n",
    "        a, b = int(j[0]), int(j[1])\n",
    "        e = int(str(s[a])+str(s[b]))\n",
    "        if not sympy.isprime(e):\n",
    "            #print (e, ' fails')\n",
    "            known_failures.append((int(s[a]),int(s[b])))\n",
    "            return False\n",
    "        else: continue\n",
    "    return True\n",
    "    \n",
    "# set = [3, 5, 7, 11, 13]\n",
    "known_failures = []\n",
    "# set_check(set)\n",
    "# print (known_failures)\n",
    "\n",
    "primes = list(sympy.primerange(7,1000))\n",
    "# pool = (list(itertools.combinations(primes,5)))\n",
    "len(primes)"
   ]
  },
  {
   "cell_type": "markdown",
   "metadata": {},
   "source": [
    "Anything that makes a list of all the combinations of a large set is bad."
   ]
  },
  {
   "cell_type": "markdown",
   "metadata": {},
   "source": [
    "new approach = instead of testing all sets of 5, start with pairs and build up, throwing out failures and not testing them again."
   ]
  },
  {
   "cell_type": "code",
   "execution_count": 16,
   "metadata": {},
   "outputs": [
    {
     "name": "stdout",
     "output_type": "stream",
     "text": [
      "8389 6733 5701 5197 13\n",
      "Done.\n"
     ]
    }
   ],
   "source": [
    "import sympy\n",
    "primes = list(sympy.primerange(2,10000))\n",
    "\n",
    "def pair_check(x, y):\n",
    "        j = int(str(x)+str(y))\n",
    "        k = int(str(y)+str(x))\n",
    "        if sympy.isprime(j) and sympy.isprime(k):\n",
    "            return True\n",
    "        return False\n",
    "        \n",
    "\n",
    "for a in primes:\n",
    "    for b in primes:\n",
    "        if b > a: continue\n",
    "        if pair_check(a, b):\n",
    "            for c in primes:\n",
    "                if c > b: continue\n",
    "                if pair_check(a, c) and pair_check(b, c):\n",
    "                        for d in primes:\n",
    "                            if d > c: continue\n",
    "                            if pair_check(a, d) and pair_check(b, d) and pair_check(c, d):\n",
    "                                for e in primes:\n",
    "                                    if e > d: continue\n",
    "                                    if pair_check(a, e) and pair_check(b, e) and pair_check(c, e) and pair_check(d, e):\n",
    "                                        print(a, b, c, d, e)\n",
    "print ('Done.')\n"
   ]
  },
  {
   "cell_type": "code",
   "execution_count": 17,
   "metadata": {},
   "outputs": [
    {
     "data": {
      "text/plain": [
       "26033"
      ]
     },
     "execution_count": 17,
     "metadata": {},
     "output_type": "execute_result"
    }
   ],
   "source": [
    "8389+6733+5701+5197+13"
   ]
  },
  {
   "cell_type": "code",
   "execution_count": null,
   "metadata": {},
   "outputs": [],
   "source": []
  },
  {
   "cell_type": "code",
   "execution_count": null,
   "metadata": {},
   "outputs": [],
   "source": []
  },
  {
   "cell_type": "code",
   "execution_count": null,
   "metadata": {},
   "outputs": [],
   "source": []
  }
 ],
 "metadata": {
  "kernelspec": {
   "display_name": "Python 3",
   "language": "python",
   "name": "python3"
  },
  "language_info": {
   "codemirror_mode": {
    "name": "ipython",
    "version": 3
   },
   "file_extension": ".py",
   "mimetype": "text/x-python",
   "name": "python",
   "nbconvert_exporter": "python",
   "pygments_lexer": "ipython3",
   "version": "3.6.4"
  },
  "varInspector": {
   "cols": {
    "lenName": 16,
    "lenType": 16,
    "lenVar": 40
   },
   "kernels_config": {
    "python": {
     "delete_cmd_postfix": "",
     "delete_cmd_prefix": "del ",
     "library": "var_list.py",
     "varRefreshCmd": "print(var_dic_list())"
    },
    "r": {
     "delete_cmd_postfix": ") ",
     "delete_cmd_prefix": "rm(",
     "library": "var_list.r",
     "varRefreshCmd": "cat(var_dic_list()) "
    }
   },
   "types_to_exclude": [
    "module",
    "function",
    "builtin_function_or_method",
    "instance",
    "_Feature"
   ],
   "window_display": false
  }
 },
 "nbformat": 4,
 "nbformat_minor": 2
}
