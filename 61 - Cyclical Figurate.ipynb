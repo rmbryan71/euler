{
 "cells": [
  {
   "cell_type": "code",
   "execution_count": 1,
   "metadata": {},
   "outputs": [],
   "source": [
    "import sympy"
   ]
  },
  {
   "cell_type": "code",
   "execution_count": 7,
   "metadata": {},
   "outputs": [],
   "source": [
    "def triangle(n):\n",
    "    return int((n*(n+1))/2)\n",
    "\n",
    "def square(n):\n",
    "    return int(n*n)\n",
    "\n",
    "def pentagon(n):\n",
    "    return int((n*(3*n-1))/2)\n",
    "\n",
    "def hexagon(n):\n",
    "    return int(n*(2*n-1))\n",
    "\n",
    "def heptagon(n):\n",
    "    return int((n*(5*n-3))/2)\n",
    "\n",
    "def octagon(n):\n",
    "    return int(n*(3*n-2))"
   ]
  },
  {
   "cell_type": "code",
   "execution_count": 8,
   "metadata": {},
   "outputs": [
    {
     "name": "stdout",
     "output_type": "stream",
     "text": [
      "1 1 1 1 1 1 1\n",
      "2 3 4 5 6 7 8\n",
      "3 6 9 12 15 18 21\n",
      "4 10 16 22 28 34 40\n",
      "5 15 25 35 45 55 65\n",
      "6 21 36 51 66 81 96\n",
      "7 28 49 70 91 112 133\n",
      "8 36 64 92 120 148 176\n",
      "9 45 81 117 153 189 225\n",
      "10 55 100 145 190 235 280\n",
      "11 66 121 176 231 286 341\n",
      "12 78 144 210 276 342 408\n",
      "13 91 169 247 325 403 481\n",
      "14 105 196 287 378 469 560\n",
      "15 120 225 330 435 540 645\n",
      "16 136 256 376 496 616 736\n",
      "17 153 289 425 561 697 833\n",
      "18 171 324 477 630 783 936\n",
      "19 190 361 532 703 874 1045\n",
      "20 210 400 590 780 970 1160\n",
      "21 231 441 651 861 1071 1281\n",
      "22 253 484 715 946 1177 1408\n",
      "23 276 529 782 1035 1288 1541\n",
      "24 300 576 852 1128 1404 1680\n",
      "25 325 625 925 1225 1525 1825\n",
      "26 351 676 1001 1326 1651 1976\n",
      "27 378 729 1080 1431 1782 2133\n",
      "28 406 784 1162 1540 1918 2296\n",
      "29 435 841 1247 1653 2059 2465\n",
      "30 465 900 1335 1770 2205 2640\n",
      "31 496 961 1426 1891 2356 2821\n",
      "32 528 1024 1520 2016 2512 3008\n",
      "33 561 1089 1617 2145 2673 3201\n",
      "34 595 1156 1717 2278 2839 3400\n",
      "35 630 1225 1820 2415 3010 3605\n",
      "36 666 1296 1926 2556 3186 3816\n",
      "37 703 1369 2035 2701 3367 4033\n",
      "38 741 1444 2147 2850 3553 4256\n",
      "39 780 1521 2262 3003 3744 4485\n",
      "40 820 1600 2380 3160 3940 4720\n",
      "41 861 1681 2501 3321 4141 4961\n",
      "42 903 1764 2625 3486 4347 5208\n",
      "43 946 1849 2752 3655 4558 5461\n",
      "44 990 1936 2882 3828 4774 5720\n",
      "45 1035 2025 3015 4005 4995 5985\n",
      "46 1081 2116 3151 4186 5221 6256\n",
      "47 1128 2209 3290 4371 5452 6533\n",
      "48 1176 2304 3432 4560 5688 6816\n",
      "49 1225 2401 3577 4753 5929 7105\n",
      "50 1275 2500 3725 4950 6175 7400\n",
      "51 1326 2601 3876 5151 6426 7701\n",
      "52 1378 2704 4030 5356 6682 8008\n",
      "53 1431 2809 4187 5565 6943 8321\n",
      "54 1485 2916 4347 5778 7209 8640\n",
      "55 1540 3025 4510 5995 7480 8965\n",
      "56 1596 3136 4676 6216 7756 9296\n",
      "57 1653 3249 4845 6441 8037 9633\n",
      "58 1711 3364 5017 6670 8323 9976\n",
      "59 1770 3481 5192 6903 8614 10325\n",
      "60 1830 3600 5370 7140 8910 10680\n",
      "61 1891 3721 5551 7381 9211 11041\n",
      "62 1953 3844 5735 7626 9517 11408\n",
      "63 2016 3969 5922 7875 9828 11781\n",
      "64 2080 4096 6112 8128 10144 12160\n",
      "65 2145 4225 6305 8385 10465 12545\n",
      "66 2211 4356 6501 8646 10791 12936\n",
      "67 2278 4489 6700 8911 11122 13333\n",
      "68 2346 4624 6902 9180 11458 13736\n",
      "69 2415 4761 7107 9453 11799 14145\n",
      "70 2485 4900 7315 9730 12145 14560\n",
      "71 2556 5041 7526 10011 12496 14981\n",
      "72 2628 5184 7740 10296 12852 15408\n",
      "73 2701 5329 7957 10585 13213 15841\n",
      "74 2775 5476 8177 10878 13579 16280\n",
      "75 2850 5625 8400 11175 13950 16725\n",
      "76 2926 5776 8626 11476 14326 17176\n",
      "77 3003 5929 8855 11781 14707 17633\n",
      "78 3081 6084 9087 12090 15093 18096\n",
      "79 3160 6241 9322 12403 15484 18565\n",
      "80 3240 6400 9560 12720 15880 19040\n",
      "81 3321 6561 9801 13041 16281 19521\n",
      "82 3403 6724 10045 13366 16687 20008\n",
      "83 3486 6889 10292 13695 17098 20501\n",
      "84 3570 7056 10542 14028 17514 21000\n",
      "85 3655 7225 10795 14365 17935 21505\n",
      "86 3741 7396 11051 14706 18361 22016\n",
      "87 3828 7569 11310 15051 18792 22533\n",
      "88 3916 7744 11572 15400 19228 23056\n",
      "89 4005 7921 11837 15753 19669 23585\n",
      "90 4095 8100 12105 16110 20115 24120\n",
      "91 4186 8281 12376 16471 20566 24661\n",
      "92 4278 8464 12650 16836 21022 25208\n",
      "93 4371 8649 12927 17205 21483 25761\n",
      "94 4465 8836 13207 17578 21949 26320\n",
      "95 4560 9025 13490 17955 22420 26885\n",
      "96 4656 9216 13776 18336 22896 27456\n",
      "97 4753 9409 14065 18721 23377 28033\n",
      "98 4851 9604 14357 19110 23863 28616\n",
      "99 4950 9801 14652 19503 24354 29205\n"
     ]
    }
   ],
   "source": [
    "for i in range(1,100):\n",
    "    print(i, triangle(i), square(i), pentagon(i), hexagon(i), heptagon(i), octagon(i))"
   ]
  },
  {
   "cell_type": "code",
   "execution_count": 25,
   "metadata": {},
   "outputs": [
    {
     "name": "stdout",
     "output_type": "stream",
     "text": [
      "4465 6561 6112 1225 2512 1281\n",
      "22156\n",
      "5565 6561 6112 1225 2512 1281\n",
      "23256\n",
      "Done.\n"
     ]
    }
   ],
   "source": [
    "triangles = []\n",
    "squares = []\n",
    "pentagons = []\n",
    "hexagons = []\n",
    "heptagons = []\n",
    "octagons = []\n",
    "\n",
    "def in_range(n):\n",
    "    if n>999 and n<10000:\n",
    "        return True\n",
    "    return False\n",
    "\n",
    "for i in range(1,200):\n",
    "    if in_range(triangle(i)):\n",
    "        triangles.append(triangle(i))\n",
    "\n",
    "for i in range(1,200):\n",
    "    if in_range(square(i)):\n",
    "        squares.append(square(i))\n",
    "        \n",
    "for i in range(1,200):\n",
    "    if in_range(pentagon(i)):\n",
    "        pentagons.append(pentagon(i))\n",
    "        \n",
    "for i in range(1,200):\n",
    "    if in_range(hexagon(i)):\n",
    "        hexagons.append(hexagon(i))\n",
    "        \n",
    "for i in range(1,200):\n",
    "    if in_range(heptagon(i)):\n",
    "        heptagons.append(heptagon(i))\n",
    "        \n",
    "for i in range(1,200):\n",
    "    if in_range(octagon(i)):\n",
    "        octagons.append(octagon(i))\n",
    "\n",
    "def are_cyclinc(a, b):\n",
    "    x = str(a)\n",
    "    y = str(b)\n",
    "    if x[2:] == y[0:2]:\n",
    "        return True\n",
    "    return False\n",
    "        \n",
    "# for i in triangles:\n",
    "#     for j in squares:\n",
    "#         if are_cyclinc(i,j):\n",
    "#             for k in pentagons:\n",
    "#                 if are_cyclinc(i,k) and are_cyclinc(j,k):\n",
    "#                     for l in hexagons:\n",
    "#                         if are_cyclinc(i,l) and are_cyclinc(k,l):\n",
    "#                             print(i,j,k,l)\n",
    "#                             for m in heptagons:\n",
    "#                                 if are_cyclinc(i,m) and are_cyclinc(l,m):\n",
    "#                                     print(i,j,k,l,m)\n",
    "#                                     for o in octagons:\n",
    "#                                         if are_cyclinc(i,o) and are_cyclinc(m,o):\n",
    "#                                             print(i,j,k,l,m,n,o)\n",
    "#                                             print(i+j+k+l+m+n+o) \n",
    "\n",
    "\n",
    "#print (triangles, squares, pentagons, hexagons, heptagons, octagons)\n",
    "\n",
    "for i in triangles:\n",
    "    for j in squares:\n",
    "        for k in pentagons:\n",
    "            for l in hexagons:\n",
    "                for m in heptagons:\n",
    "                    for o in octagons:\n",
    "                        if are_cyclinc(i,j) and are_cyclinc(j,k) and are_cyclinc(k,l) and are_cyclinc(l,m) and are_cyclinc(m,o):\n",
    "                            print(i,j,k,l,m,o)\n",
    "                            print(i+j+k+l+m+o)\n",
    "print('Done.')\n",
    "\n"
   ]
  },
  {
   "cell_type": "code",
   "execution_count": 26,
   "metadata": {},
   "outputs": [
    {
     "name": "stdout",
     "output_type": "stream",
     "text": [
      "[8256, 5625, 2512, 1281, 8128, 2882] 28684\n",
      "--- 0.19148993492126465 seconds ---\n"
     ]
    }
   ],
   "source": [
    "import time\n",
    "start_time = time.time()\n",
    "\n",
    "Ps = [[1], [1], [1], [1], [1], [1]]\n",
    "\n",
    "for Repeat in range(0, 6):\n",
    "    N = 1\n",
    "    while len(str(Ps[Repeat][-1])) < 5:\n",
    "        if Repeat == 0:\n",
    "            Ps[Repeat].append(int(N * (N + 1) / 2))\n",
    "        elif Repeat == 1:\n",
    "            Ps[Repeat].append(int(pow(N, 2)))\n",
    "        elif Repeat == 2:\n",
    "            Ps[Repeat].append(int(N * (3 * N - 1) / 2))\n",
    "        elif Repeat == 3:\n",
    "            Ps[Repeat].append(int(N * (N * 2 - 1)))\n",
    "        elif Repeat == 4:\n",
    "            Ps[Repeat].append(int(N * (5 * N - 3) / 2))\n",
    "        elif Repeat == 5:\n",
    "            Ps[Repeat].append(int(N * (3 * N - 2)))\n",
    "        N += 1\n",
    "\n",
    "    for Num in reversed(Ps[Repeat]):\n",
    "        if not len(str(Num)) == 4:\n",
    "            Ps[Repeat].remove(Num)\n",
    "\n",
    "\n",
    "def Recertion(TheList, Polygons):\n",
    "    if len(TheList) == 6:\n",
    "        if str(TheList[-1])[-2:] == str(TheList[0])[:2]:\n",
    "            print(TheList, sum(TheList))\n",
    "            print(\"--- %s seconds ---\" % (time.time() - start_time))\n",
    "    else:\n",
    "        for Place in [x for x in range(1, 6) if x not in Polygons]:\n",
    "            for Num in Ps[Place]:\n",
    "                if str(TheList[-1])[-2:] == str(Num)[:2]:\n",
    "                    Recertion(TheList + [Num], Polygons + [Place])\n",
    "\n",
    "for N in Ps[0]:\n",
    "    Recertion([N], [0])"
   ]
  },
  {
   "cell_type": "code",
   "execution_count": null,
   "metadata": {},
   "outputs": [],
   "source": []
  },
  {
   "cell_type": "code",
   "execution_count": null,
   "metadata": {},
   "outputs": [],
   "source": []
  },
  {
   "cell_type": "code",
   "execution_count": null,
   "metadata": {},
   "outputs": [],
   "source": []
  },
  {
   "cell_type": "code",
   "execution_count": null,
   "metadata": {},
   "outputs": [],
   "source": []
  },
  {
   "cell_type": "code",
   "execution_count": null,
   "metadata": {},
   "outputs": [],
   "source": []
  },
  {
   "cell_type": "code",
   "execution_count": null,
   "metadata": {},
   "outputs": [],
   "source": []
  },
  {
   "cell_type": "code",
   "execution_count": null,
   "metadata": {},
   "outputs": [],
   "source": []
  },
  {
   "cell_type": "code",
   "execution_count": null,
   "metadata": {},
   "outputs": [],
   "source": []
  },
  {
   "cell_type": "code",
   "execution_count": null,
   "metadata": {},
   "outputs": [],
   "source": []
  },
  {
   "cell_type": "code",
   "execution_count": null,
   "metadata": {},
   "outputs": [],
   "source": []
  },
  {
   "cell_type": "code",
   "execution_count": null,
   "metadata": {},
   "outputs": [],
   "source": []
  },
  {
   "cell_type": "code",
   "execution_count": null,
   "metadata": {},
   "outputs": [],
   "source": []
  },
  {
   "cell_type": "code",
   "execution_count": null,
   "metadata": {},
   "outputs": [],
   "source": []
  },
  {
   "cell_type": "code",
   "execution_count": null,
   "metadata": {},
   "outputs": [],
   "source": []
  },
  {
   "cell_type": "code",
   "execution_count": null,
   "metadata": {},
   "outputs": [],
   "source": []
  },
  {
   "cell_type": "code",
   "execution_count": null,
   "metadata": {},
   "outputs": [],
   "source": []
  },
  {
   "cell_type": "code",
   "execution_count": null,
   "metadata": {},
   "outputs": [],
   "source": []
  },
  {
   "cell_type": "code",
   "execution_count": null,
   "metadata": {},
   "outputs": [],
   "source": []
  }
 ],
 "metadata": {
  "kernelspec": {
   "display_name": "Python 3",
   "language": "python",
   "name": "python3"
  },
  "language_info": {
   "codemirror_mode": {
    "name": "ipython",
    "version": 3
   },
   "file_extension": ".py",
   "mimetype": "text/x-python",
   "name": "python",
   "nbconvert_exporter": "python",
   "pygments_lexer": "ipython3",
   "version": "3.6.4"
  },
  "varInspector": {
   "cols": {
    "lenName": 16,
    "lenType": 16,
    "lenVar": 40
   },
   "kernels_config": {
    "python": {
     "delete_cmd_postfix": "",
     "delete_cmd_prefix": "del ",
     "library": "var_list.py",
     "varRefreshCmd": "print(var_dic_list())"
    },
    "r": {
     "delete_cmd_postfix": ") ",
     "delete_cmd_prefix": "rm(",
     "library": "var_list.r",
     "varRefreshCmd": "cat(var_dic_list()) "
    }
   },
   "types_to_exclude": [
    "module",
    "function",
    "builtin_function_or_method",
    "instance",
    "_Feature"
   ],
   "window_display": false
  }
 },
 "nbformat": 4,
 "nbformat_minor": 2
}
